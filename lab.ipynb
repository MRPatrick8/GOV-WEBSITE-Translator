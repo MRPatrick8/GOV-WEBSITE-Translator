{
 "cells": [
  {
   "cell_type": "code",
   "execution_count": 1,
   "metadata": {},
   "outputs": [],
   "source": [
    "from docx import Document"
   ]
  },
  {
   "cell_type": "code",
   "execution_count": 2,
   "metadata": {},
   "outputs": [],
   "source": [
    "doc = Document('data/content.docx')"
   ]
  },
  {
   "cell_type": "code",
   "execution_count": 14,
   "metadata": {},
   "outputs": [
    {
     "data": {
      "text/plain": [
       "'Experience stunning scenery distinctive hospitality and unique experiences in the land of a thousand hills'"
      ]
     },
     "execution_count": 14,
     "metadata": {},
     "output_type": "execute_result"
    }
   ],
   "source": [
    "doc.paragraphs[0].text"
   ]
  },
  {
   "cell_type": "code",
   "execution_count": 16,
   "metadata": {},
   "outputs": [
    {
     "name": "stdout",
     "output_type": "stream",
     "text": [
      "['Experience stunning scenery distinctive hospitality and unique experiences in the land of a thousand hills', '30 day Free Visa upon arrival for African Union Commonwealth La Francophonie citizens', 'The 2nd easiest place to do business in Africa World Bank 2020', 'GDP growth 2022', 'Known as the land of a thousand hills Rwanda s stunning scenery and warm friendly people offer unique experiences in one of the most remarkable countries in the world', 'You can request different Government services online through Irembo the one stop service portal', 'Enjoy Rwanda s business friendly environment It takes only 6 hours to register a business online', 'The filing and payment of income tax in different categories is done online', 'Are you a supplier of goods works services or non consultancy services The E Procurement System Umucyo links you to all public tenders', 'Kigali 16 March 2023 Over 2000 delegates representing 211 FIFA members head of confederations and other global players in football gathered in', 'Kigali March 13 2023 Six ISO sized shipping containers for the first BioNTainer landed in Kigali on Monday marking an important milestone in the', 'Kigali 27 February 2023 The National Umushyikirano Council opened on Monday at the Kigali Convention centre bringing together over 1500', 'February 8 2023 Under the proposed 2022 2023 budget revision the Government spending will increase by Frw 106 4 billion a 2 3 increase to Frw', '1 February 2023 President Paul Kagame and First Lady Jeannette Kagame on Wednesday laid a wreath at the National Heroes Mausoleum paying tribute to']\n"
     ]
    }
   ],
   "source": [
    "paragraphs = []\n",
    "for i in range(len(doc.paragraphs)):\n",
    "    paragraphs.append(doc.paragraphs[i].text)\n",
    "print(paragraphs)"
   ]
  },
  {
   "cell_type": "code",
   "execution_count": 5,
   "metadata": {},
   "outputs": [
    {
     "data": {
      "text/plain": [
       "['__new__',\n",
       " '__reduce__',\n",
       " '__reduce_ex__',\n",
       " '__repr__',\n",
       " '__setattr__',\n",
       " '__sizeof__',\n",
       " '__slots__',\n",
       " '__str__',\n",
       " '__subclasshook__',\n",
       " '_block_width',\n",
       " '_body',\n",
       " '_element',\n",
       " '_parent',\n",
       " '_part',\n",
       " 'add_heading',\n",
       " 'add_page_break',\n",
       " 'add_paragraph',\n",
       " 'add_picture',\n",
       " 'add_section',\n",
       " 'add_table',\n",
       " 'core_properties',\n",
       " 'element',\n",
       " 'inline_shapes',\n",
       " 'paragraphs',\n",
       " 'part',\n",
       " 'save',\n",
       " 'sections',\n",
       " 'settings',\n",
       " 'styles']"
      ]
     },
     "execution_count": 5,
     "metadata": {},
     "output_type": "execute_result"
    }
   ],
   "source": [
    "doc"
   ]
  },
  {
   "cell_type": "code",
   "execution_count": null,
   "metadata": {},
   "outputs": [],
   "source": []
  }
 ],
 "metadata": {
  "kernelspec": {
   "display_name": "lab",
   "language": "python",
   "name": "python3"
  },
  "language_info": {
   "codemirror_mode": {
    "name": "ipython",
    "version": 3
   },
   "file_extension": ".py",
   "mimetype": "text/x-python",
   "name": "python",
   "nbconvert_exporter": "python",
   "pygments_lexer": "ipython3",
   "version": "3.10.8"
  },
  "orig_nbformat": 4
 },
 "nbformat": 4,
 "nbformat_minor": 2
}
