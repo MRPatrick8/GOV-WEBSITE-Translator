{
  "nbformat": 4,
  "nbformat_minor": 0,
  "metadata": {
    "colab": {
      "provenance": [],
      "include_colab_link": true
    },
    "kernelspec": {
      "name": "python3",
      "display_name": "Python 3"
    },
    "language_info": {
      "name": "python"
    },
    "accelerator": "GPU",
    "gpuClass": "standard"
  },
  "cells": [
    {
      "cell_type": "markdown",
      "metadata": {
        "id": "view-in-github",
        "colab_type": "text"
      },
      "source": [
        "<a href=\"https://colab.research.google.com/github/MRPatrick8/GOV-WEBSITE-Translator/blob/main/Translator_GOVRW.ipynb\" target=\"_parent\"><img src=\"https://colab.research.google.com/assets/colab-badge.svg\" alt=\"Open In Colab\"/></a>"
      ]
    },
    {
      "cell_type": "code",
      "execution_count": null,
      "metadata": {
        "id": "e2IPYjT7pmUs"
      },
      "outputs": [],
      "source": [
        "import requests \n",
        "from bs4 import BeautifulSoup \n",
        "import pandas as pd"
      ]
    },
    {
      "cell_type": "code",
      "source": [
        "response = requests.get('https://www.gov.rw/')\n",
        "soup = BeautifulSoup(response.content,'html.parser')"
      ],
      "metadata": {
        "id": "M1PbcKn7qBWa"
      },
      "execution_count": null,
      "outputs": []
    },
    {
      "cell_type": "code",
      "source": [
        "some_contents = soup.find_all('p',class_='txt_content txt_black mabo0')\n",
        "c = [some_contents[index].text for index in range(len(some_contents))]\n"
      ],
      "metadata": {
        "id": "6aD8qcM_qRcz"
      },
      "execution_count": null,
      "outputs": []
    },
    {
      "cell_type": "code",
      "source": [
        "c"
      ],
      "metadata": {
        "colab": {
          "base_uri": "https://localhost:8080/"
        },
        "id": "K7leHJ7_r0XK",
        "outputId": "d7a85fa1-ea62-430c-c015-21c49252d160"
      },
      "execution_count": null,
      "outputs": [
        {
          "output_type": "execute_result",
          "data": {
            "text/plain": [
              "['Experience stunning scenery, distinctive hospitality and unique experiences in the land of a thousand hills.',\n",
              " '30-day Free Visa upon arrival for African Union, Commonwealth & La Francophonie citizens.',\n",
              " 'The 2nd easiest place to do business in Africa (World Bank 2020)',\n",
              " 'GDP growth (2021)']"
            ]
          },
          "metadata": {},
          "execution_count": 4
        }
      ]
    },
    {
      "cell_type": "code",
      "source": [
        "some_contents1 = soup.find_all('p',class_='txt_content txt_white mabo32')\n",
        "c1 = [some_contents1[index].text for index in range(len(some_contents1))]"
      ],
      "metadata": {
        "id": "vdEXe3tsr1OG"
      },
      "execution_count": null,
      "outputs": []
    },
    {
      "cell_type": "code",
      "source": [
        "c1"
      ],
      "metadata": {
        "colab": {
          "base_uri": "https://localhost:8080/"
        },
        "id": "05XyM32as7zt",
        "outputId": "bbb398f6-3897-4bd0-8b29-fe6e89395848"
      },
      "execution_count": null,
      "outputs": [
        {
          "output_type": "execute_result",
          "data": {
            "text/plain": [
              "['Known as the land of a thousand hills, Rwanda’s stunning scenery and warm, friendly people offer unique experiences in one of the most remarkable countries in the world.']"
            ]
          },
          "metadata": {},
          "execution_count": 6
        }
      ]
    },
    {
      "cell_type": "code",
      "source": [
        "some_contents2 = soup.find_all('p',class_='txt_content txt_grey')\n",
        "c2 = [some_contents2[index].text for index in range(len(some_contents2))]"
      ],
      "metadata": {
        "id": "ImICxDMKs82g"
      },
      "execution_count": null,
      "outputs": []
    },
    {
      "cell_type": "code",
      "source": [
        "c2"
      ],
      "metadata": {
        "colab": {
          "base_uri": "https://localhost:8080/"
        },
        "id": "2NSZXnz_tl6J",
        "outputId": "ea908992-4f09-454c-cb0b-ff009c0371b6"
      },
      "execution_count": null,
      "outputs": [
        {
          "output_type": "execute_result",
          "data": {
            "text/plain": [
              "['Find information about all government services including\\xa0legal and travel documents, business, career opportunities and more.']"
            ]
          },
          "metadata": {},
          "execution_count": 8
        }
      ]
    },
    {
      "cell_type": "code",
      "source": [
        "some_contents3 = soup.find_all('div',class_='txt_content txt_grey')\n",
        "c3 = [some_contents3[index].text for index in range(len(some_contents3))]"
      ],
      "metadata": {
        "id": "ciL1d7hotqSh"
      },
      "execution_count": null,
      "outputs": []
    },
    {
      "cell_type": "code",
      "source": [
        "c3"
      ],
      "metadata": {
        "colab": {
          "base_uri": "https://localhost:8080/"
        },
        "id": "61QIAFzot7jy",
        "outputId": "b4a8a3d3-ee53-4821-907b-2a84acb3334a"
      },
      "execution_count": null,
      "outputs": [
        {
          "output_type": "execute_result",
          "data": {
            "text/plain": [
              "['\\n                \\n                    \\n                            You can request different Government services online through Irembo, the one-stop service portal. \\n                        \\n                \\n            ',\n",
              " \"\\n                \\n                    \\n                            Enjoy Rwanda's business friendly environment. It takes only 6 hours to register a business online. \\n                        \\n                \\n            \",\n",
              " '\\n                \\n                    \\n                            The filing and payment of income tax in different categories is done online. \\n                        \\n                \\n            ',\n",
              " '\\n                \\n                    \\n                            Are you a supplier of goods, works, services or non-consultancy services? The E-Procurement System “Umucyo” links you to all public tenders.\\n                        \\n                \\n            ']"
            ]
          },
          "metadata": {},
          "execution_count": 10
        }
      ]
    },
    {
      "cell_type": "code",
      "source": [],
      "metadata": {
        "id": "g5o8KKstt842"
      },
      "execution_count": null,
      "outputs": []
    },
    {
      "cell_type": "code",
      "source": [
        "some_contents4 = soup.find_all('div',class_='txt_content txt_grey text-justify mabo16 lead')\n",
        "c4 = [some_contents4[index].text for index in range(len(some_contents4))]"
      ],
      "metadata": {
        "id": "3GSYM4mCuXKH"
      },
      "execution_count": null,
      "outputs": []
    },
    {
      "cell_type": "code",
      "source": [
        "c4"
      ],
      "metadata": {
        "colab": {
          "base_uri": "https://localhost:8080/"
        },
        "id": "P5XAlCeaufqF",
        "outputId": "0b6651af-87a1-429f-d220-ef29138a49f0"
      },
      "execution_count": null,
      "outputs": [
        {
          "output_type": "execute_result",
          "data": {
            "text/plain": [
              "[]"
            ]
          },
          "metadata": {},
          "execution_count": 12
        }
      ]
    },
    {
      "cell_type": "code",
      "source": [
        "list_of_contents = c+c1+c2+c3+c4"
      ],
      "metadata": {
        "id": "V9iK65uougoQ"
      },
      "execution_count": null,
      "outputs": []
    },
    {
      "cell_type": "code",
      "source": [
        "list_of_contents"
      ],
      "metadata": {
        "colab": {
          "base_uri": "https://localhost:8080/"
        },
        "id": "Uc6ySKTNun6w",
        "outputId": "8ef7aa9a-bc1d-4e68-ed0d-04dbacfc5fe9"
      },
      "execution_count": null,
      "outputs": [
        {
          "output_type": "execute_result",
          "data": {
            "text/plain": [
              "['Experience stunning scenery, distinctive hospitality and unique experiences in the land of a thousand hills.',\n",
              " '30-day Free Visa upon arrival for African Union, Commonwealth & La Francophonie citizens.',\n",
              " 'The 2nd easiest place to do business in Africa (World Bank 2020)',\n",
              " 'GDP growth (2021)',\n",
              " 'Known as the land of a thousand hills, Rwanda’s stunning scenery and warm, friendly people offer unique experiences in one of the most remarkable countries in the world.',\n",
              " 'Find information about all government services including\\xa0legal and travel documents, business, career opportunities and more.',\n",
              " '\\n                \\n                    \\n                            You can request different Government services online through Irembo, the one-stop service portal. \\n                        \\n                \\n            ',\n",
              " \"\\n                \\n                    \\n                            Enjoy Rwanda's business friendly environment. It takes only 6 hours to register a business online. \\n                        \\n                \\n            \",\n",
              " '\\n                \\n                    \\n                            The filing and payment of income tax in different categories is done online. \\n                        \\n                \\n            ',\n",
              " '\\n                \\n                    \\n                            Are you a supplier of goods, works, services or non-consultancy services? The E-Procurement System “Umucyo” links you to all public tenders.\\n                        \\n                \\n            ']"
            ]
          },
          "metadata": {},
          "execution_count": 14
        }
      ]
    },
    {
      "cell_type": "code",
      "source": [
        "list_of_contents_modified = [item.strip() for item in list_of_contents]"
      ],
      "metadata": {
        "id": "D_f9CFgNvxGK"
      },
      "execution_count": null,
      "outputs": []
    },
    {
      "cell_type": "code",
      "source": [
        "list_of_contents_modified"
      ],
      "metadata": {
        "colab": {
          "base_uri": "https://localhost:8080/"
        },
        "id": "CGZJDNUyv-v_",
        "outputId": "47be32bb-eb5e-43b4-8506-5a753428029a"
      },
      "execution_count": null,
      "outputs": [
        {
          "output_type": "execute_result",
          "data": {
            "text/plain": [
              "['Experience stunning scenery, distinctive hospitality and unique experiences in the land of a thousand hills.',\n",
              " '30-day Free Visa upon arrival for African Union, Commonwealth & La Francophonie citizens.',\n",
              " 'The 2nd easiest place to do business in Africa (World Bank 2020)',\n",
              " 'GDP growth (2021)',\n",
              " 'Known as the land of a thousand hills, Rwanda’s stunning scenery and warm, friendly people offer unique experiences in one of the most remarkable countries in the world.',\n",
              " 'Find information about all government services including\\xa0legal and travel documents, business, career opportunities and more.',\n",
              " 'You can request different Government services online through Irembo, the one-stop service portal.',\n",
              " \"Enjoy Rwanda's business friendly environment. It takes only 6 hours to register a business online.\",\n",
              " 'The filing and payment of income tax in different categories is done online.',\n",
              " 'Are you a supplier of goods, works, services or non-consultancy services? The E-Procurement System “Umucyo” links you to all public tenders.']"
            ]
          },
          "metadata": {},
          "execution_count": 16
        }
      ]
    },
    {
      "cell_type": "code",
      "source": [
        "df = pd.DataFrame()"
      ],
      "metadata": {
        "id": "BLjFdVT7uqKL"
      },
      "execution_count": null,
      "outputs": []
    },
    {
      "cell_type": "code",
      "source": [
        "df['content'] = list_of_contents_modified"
      ],
      "metadata": {
        "id": "CxNs7Xz_u7_j"
      },
      "execution_count": null,
      "outputs": []
    },
    {
      "cell_type": "code",
      "source": [
        "df\n"
      ],
      "metadata": {
        "colab": {
          "base_uri": "https://localhost:8080/",
          "height": 363
        },
        "id": "k-mDHv7au_qG",
        "outputId": "b298a92b-f665-4119-dbc3-c7707d0d24ff"
      },
      "execution_count": null,
      "outputs": [
        {
          "output_type": "execute_result",
          "data": {
            "text/plain": [
              "                                             content\n",
              "0  Experience stunning scenery, distinctive hospi...\n",
              "1  30-day Free Visa upon arrival for African Unio...\n",
              "2  The 2nd easiest place to do business in Africa...\n",
              "3                                  GDP growth (2021)\n",
              "4  Known as the land of a thousand hills, Rwanda’...\n",
              "5  Find information about all government services...\n",
              "6  You can request different Government services ...\n",
              "7  Enjoy Rwanda's business friendly environment. ...\n",
              "8  The filing and payment of income tax in differ...\n",
              "9  Are you a supplier of goods, works, services o..."
            ],
            "text/html": [
              "\n",
              "  <div id=\"df-fad5c508-76c3-486c-b785-2e67000e6865\">\n",
              "    <div class=\"colab-df-container\">\n",
              "      <div>\n",
              "<style scoped>\n",
              "    .dataframe tbody tr th:only-of-type {\n",
              "        vertical-align: middle;\n",
              "    }\n",
              "\n",
              "    .dataframe tbody tr th {\n",
              "        vertical-align: top;\n",
              "    }\n",
              "\n",
              "    .dataframe thead th {\n",
              "        text-align: right;\n",
              "    }\n",
              "</style>\n",
              "<table border=\"1\" class=\"dataframe\">\n",
              "  <thead>\n",
              "    <tr style=\"text-align: right;\">\n",
              "      <th></th>\n",
              "      <th>content</th>\n",
              "    </tr>\n",
              "  </thead>\n",
              "  <tbody>\n",
              "    <tr>\n",
              "      <th>0</th>\n",
              "      <td>Experience stunning scenery, distinctive hospi...</td>\n",
              "    </tr>\n",
              "    <tr>\n",
              "      <th>1</th>\n",
              "      <td>30-day Free Visa upon arrival for African Unio...</td>\n",
              "    </tr>\n",
              "    <tr>\n",
              "      <th>2</th>\n",
              "      <td>The 2nd easiest place to do business in Africa...</td>\n",
              "    </tr>\n",
              "    <tr>\n",
              "      <th>3</th>\n",
              "      <td>GDP growth (2021)</td>\n",
              "    </tr>\n",
              "    <tr>\n",
              "      <th>4</th>\n",
              "      <td>Known as the land of a thousand hills, Rwanda’...</td>\n",
              "    </tr>\n",
              "    <tr>\n",
              "      <th>5</th>\n",
              "      <td>Find information about all government services...</td>\n",
              "    </tr>\n",
              "    <tr>\n",
              "      <th>6</th>\n",
              "      <td>You can request different Government services ...</td>\n",
              "    </tr>\n",
              "    <tr>\n",
              "      <th>7</th>\n",
              "      <td>Enjoy Rwanda's business friendly environment. ...</td>\n",
              "    </tr>\n",
              "    <tr>\n",
              "      <th>8</th>\n",
              "      <td>The filing and payment of income tax in differ...</td>\n",
              "    </tr>\n",
              "    <tr>\n",
              "      <th>9</th>\n",
              "      <td>Are you a supplier of goods, works, services o...</td>\n",
              "    </tr>\n",
              "  </tbody>\n",
              "</table>\n",
              "</div>\n",
              "      <button class=\"colab-df-convert\" onclick=\"convertToInteractive('df-fad5c508-76c3-486c-b785-2e67000e6865')\"\n",
              "              title=\"Convert this dataframe to an interactive table.\"\n",
              "              style=\"display:none;\">\n",
              "        \n",
              "  <svg xmlns=\"http://www.w3.org/2000/svg\" height=\"24px\"viewBox=\"0 0 24 24\"\n",
              "       width=\"24px\">\n",
              "    <path d=\"M0 0h24v24H0V0z\" fill=\"none\"/>\n",
              "    <path d=\"M18.56 5.44l.94 2.06.94-2.06 2.06-.94-2.06-.94-.94-2.06-.94 2.06-2.06.94zm-11 1L8.5 8.5l.94-2.06 2.06-.94-2.06-.94L8.5 2.5l-.94 2.06-2.06.94zm10 10l.94 2.06.94-2.06 2.06-.94-2.06-.94-.94-2.06-.94 2.06-2.06.94z\"/><path d=\"M17.41 7.96l-1.37-1.37c-.4-.4-.92-.59-1.43-.59-.52 0-1.04.2-1.43.59L10.3 9.45l-7.72 7.72c-.78.78-.78 2.05 0 2.83L4 21.41c.39.39.9.59 1.41.59.51 0 1.02-.2 1.41-.59l7.78-7.78 2.81-2.81c.8-.78.8-2.07 0-2.86zM5.41 20L4 18.59l7.72-7.72 1.47 1.35L5.41 20z\"/>\n",
              "  </svg>\n",
              "      </button>\n",
              "      \n",
              "  <style>\n",
              "    .colab-df-container {\n",
              "      display:flex;\n",
              "      flex-wrap:wrap;\n",
              "      gap: 12px;\n",
              "    }\n",
              "\n",
              "    .colab-df-convert {\n",
              "      background-color: #E8F0FE;\n",
              "      border: none;\n",
              "      border-radius: 50%;\n",
              "      cursor: pointer;\n",
              "      display: none;\n",
              "      fill: #1967D2;\n",
              "      height: 32px;\n",
              "      padding: 0 0 0 0;\n",
              "      width: 32px;\n",
              "    }\n",
              "\n",
              "    .colab-df-convert:hover {\n",
              "      background-color: #E2EBFA;\n",
              "      box-shadow: 0px 1px 2px rgba(60, 64, 67, 0.3), 0px 1px 3px 1px rgba(60, 64, 67, 0.15);\n",
              "      fill: #174EA6;\n",
              "    }\n",
              "\n",
              "    [theme=dark] .colab-df-convert {\n",
              "      background-color: #3B4455;\n",
              "      fill: #D2E3FC;\n",
              "    }\n",
              "\n",
              "    [theme=dark] .colab-df-convert:hover {\n",
              "      background-color: #434B5C;\n",
              "      box-shadow: 0px 1px 3px 1px rgba(0, 0, 0, 0.15);\n",
              "      filter: drop-shadow(0px 1px 2px rgba(0, 0, 0, 0.3));\n",
              "      fill: #FFFFFF;\n",
              "    }\n",
              "  </style>\n",
              "\n",
              "      <script>\n",
              "        const buttonEl =\n",
              "          document.querySelector('#df-fad5c508-76c3-486c-b785-2e67000e6865 button.colab-df-convert');\n",
              "        buttonEl.style.display =\n",
              "          google.colab.kernel.accessAllowed ? 'block' : 'none';\n",
              "\n",
              "        async function convertToInteractive(key) {\n",
              "          const element = document.querySelector('#df-fad5c508-76c3-486c-b785-2e67000e6865');\n",
              "          const dataTable =\n",
              "            await google.colab.kernel.invokeFunction('convertToInteractive',\n",
              "                                                     [key], {});\n",
              "          if (!dataTable) return;\n",
              "\n",
              "          const docLinkHtml = 'Like what you see? Visit the ' +\n",
              "            '<a target=\"_blank\" href=https://colab.research.google.com/notebooks/data_table.ipynb>data table notebook</a>'\n",
              "            + ' to learn more about interactive tables.';\n",
              "          element.innerHTML = '';\n",
              "          dataTable['output_type'] = 'display_data';\n",
              "          await google.colab.output.renderOutput(dataTable, element);\n",
              "          const docLink = document.createElement('div');\n",
              "          docLink.innerHTML = docLinkHtml;\n",
              "          element.appendChild(docLink);\n",
              "        }\n",
              "      </script>\n",
              "    </div>\n",
              "  </div>\n",
              "  "
            ]
          },
          "metadata": {},
          "execution_count": 19
        }
      ]
    },
    {
      "cell_type": "code",
      "source": [
        "df.to_csv('content.csv',index=False)"
      ],
      "metadata": {
        "id": "RfyUCMU2vAtC"
      },
      "execution_count": null,
      "outputs": []
    },
    {
      "cell_type": "code",
      "source": [
        "!git clone https://github.com/agent87/zindi.git"
      ],
      "metadata": {
        "id": "4GHQ5O7qwM1N",
        "colab": {
          "base_uri": "https://localhost:8080/"
        },
        "outputId": "7c27a08c-3124-4fc2-943f-3c7d0880f30f"
      },
      "execution_count": null,
      "outputs": [
        {
          "output_type": "stream",
          "name": "stdout",
          "text": [
            "Cloning into 'zindi'...\n",
            "remote: Enumerating objects: 74, done.\u001b[K\n",
            "remote: Counting objects: 100% (74/74), done.\u001b[K\n",
            "remote: Compressing objects: 100% (58/58), done.\u001b[K\n",
            "remote: Total 74 (delta 32), reused 49 (delta 13), pack-reused 0\u001b[K\n",
            "Unpacking objects: 100% (74/74), 8.91 MiB | 4.01 MiB/s, done.\n"
          ]
        }
      ]
    },
    {
      "cell_type": "code",
      "source": [
        "df1= pd.read_csv('/content/zindi/final_corpus.csv')"
      ],
      "metadata": {
        "id": "QCuFMcFdnUUA"
      },
      "execution_count": null,
      "outputs": []
    },
    {
      "cell_type": "code",
      "source": [
        "pip install googletrans"
      ],
      "metadata": {
        "id": "zR893K9PrCbw"
      },
      "execution_count": null,
      "outputs": []
    },
    {
      "cell_type": "code",
      "source": [
        "import requests\n",
        "import json\n",
        "class translator:\n",
        "    api_url = \"https://translate.googleapis.com/translate_a/single\"\n",
        "    client = \"?client=gtx&dt=t\"\n",
        "    dt = \"&dt=t\"\n",
        "    #fROM English to Kinyarwanda\n",
        "    \n",
        "\n",
        "    def translate_dataframe(df, target_lang, source_lang):\n",
        "        def translate_row(row):\n",
        "            sl = f\"&sl={source_lang}\"\n",
        "            tl = f\"&tl={target_lang}\"\n",
        "            text = row['content']\n",
        "            r = requests.get(f\"{translator.api_url}{translator.client}{translator.dt}{sl}{tl}&q={text}\")\n",
        "            if r.status_code == 200:\n",
        "                response_data = json.loads(r.text)\n",
        "                translated_text = response_data[0][0][0]\n",
        "            else:\n",
        "                translated_text = \"\"\n",
        "            row['translated_text'] = translated_text\n",
        "            return row\n",
        "\n",
        "        df = df.apply(translate_row, axis=1)\n",
        "        return df[['translated_text']] # Only return the translated text column\n",
        "    \n",
        "    def back_translate_dataframe(df, target_lang, source_lang):\n",
        "        def translate_row(row):\n",
        "            sl = f\"&sl={source_lang}\"\n",
        "            tl = f\"&tl={target_lang}\"\n",
        "            text = row['translated_text']\n",
        "            r = requests.get(f\"{translator.api_url}{translator.client}{translator.dt}{sl}{tl}&q={text}\")\n",
        "            if r.status_code == 200:\n",
        "                response_data = json.loads(r.text)\n",
        "                translated_text = response_data[0][0][0]\n",
        "            else:\n",
        "                translated_text = \"\"\n",
        "            row['back_translated_text'] = translated_text\n",
        "            return row\n",
        "\n",
        "        df = df.apply(translate_row, axis=1)\n",
        "        return df[['back_translated_text']] # Only return the translated text column\n"
      ],
      "metadata": {
        "id": "oU61aRRAgBA-"
      },
      "execution_count": null,
      "outputs": []
    },
    {
      "cell_type": "code",
      "source": [
        "df['translated_text']=translator.translate_dataframe(df, target_lang='rw', source_lang='en')\n",
        "df['Back_translated_text']=translator.back_translate_dataframe(df, target_lang='en', source_lang='rw')"
      ],
      "metadata": {
        "id": "4Kfg2BpjgBDs"
      },
      "execution_count": null,
      "outputs": []
    },
    {
      "cell_type": "code",
      "source": [
        "df"
      ],
      "metadata": {
        "colab": {
          "base_uri": "https://localhost:8080/",
          "height": 363
        },
        "id": "TCF7c-VOgBGl",
        "outputId": "7b07402f-f619-4190-a5d6-351e4496ceb7"
      },
      "execution_count": null,
      "outputs": [
        {
          "output_type": "execute_result",
          "data": {
            "text/plain": [
              "                                             content  \\\n",
              "0  Experience stunning scenery, distinctive hospi...   \n",
              "1  30-day Free Visa upon arrival for African Unio...   \n",
              "2  The 2nd easiest place to do business in Africa...   \n",
              "3                                  GDP growth (2021)   \n",
              "4  Known as the land of a thousand hills, Rwanda’...   \n",
              "5  Find information about all government services...   \n",
              "6  You can request different Government services ...   \n",
              "7  Enjoy Rwanda's business friendly environment. ...   \n",
              "8  The filing and payment of income tax in differ...   \n",
              "9  Are you a supplier of goods, works, services o...   \n",
              "\n",
              "                                     translated_text  \\\n",
              "0  Inararibonye nziza cyane, kwakira abashyitsi h...   \n",
              "1  Viza y'iminsi 30 yubusa ugeze muri Afrika yubu...   \n",
              "2  Ahantu 2 byoroshye gukorera ubucuruzi muri Afr...   \n",
              "3                         Ubwiyongere bwa GDP (2021)   \n",
              "4  Azwi nk'igihugu cy'imisozi igihumbi, ibyiza by...   \n",
              "5  Shakisha amakuru ajyanye na serivisi zose za l...   \n",
              "6  Urashobora gusaba serivisi za leta zitandukany...   \n",
              "7                    Ishimire ubucuruzi bwu Rwanda.    \n",
              "8  Gutanga no kwishyura umusoro ku nyungu mubyici...   \n",
              "9  Waba utanga ibicuruzwa, imirimo, serivisi cyan...   \n",
              "\n",
              "                                Back_translated_text  \n",
              "0  Excellent experience, hospitality and a unique...  \n",
              "1  Free 30-day visa on arrival in the African Uni...  \n",
              "2  2 Easy Places to Do Business in Africa (World ...  \n",
              "3                                  GDP Growth (2021)  \n",
              "4  Known as the land of a thousand mountains, Rwa...  \n",
              "5  Find information about all government services...  \n",
              "6  You can apply for various government services ...  \n",
              "7                      Enjoy the business of Rwanda.  \n",
              "8  Filing and payment of income tax in various ca...  \n",
              "9  Do you offer products, services, or non-consul...  "
            ],
            "text/html": [
              "\n",
              "  <div id=\"df-19ab4601-b4e5-4729-8dd5-e8182008a3d7\">\n",
              "    <div class=\"colab-df-container\">\n",
              "      <div>\n",
              "<style scoped>\n",
              "    .dataframe tbody tr th:only-of-type {\n",
              "        vertical-align: middle;\n",
              "    }\n",
              "\n",
              "    .dataframe tbody tr th {\n",
              "        vertical-align: top;\n",
              "    }\n",
              "\n",
              "    .dataframe thead th {\n",
              "        text-align: right;\n",
              "    }\n",
              "</style>\n",
              "<table border=\"1\" class=\"dataframe\">\n",
              "  <thead>\n",
              "    <tr style=\"text-align: right;\">\n",
              "      <th></th>\n",
              "      <th>content</th>\n",
              "      <th>translated_text</th>\n",
              "      <th>Back_translated_text</th>\n",
              "    </tr>\n",
              "  </thead>\n",
              "  <tbody>\n",
              "    <tr>\n",
              "      <th>0</th>\n",
              "      <td>Experience stunning scenery, distinctive hospi...</td>\n",
              "      <td>Inararibonye nziza cyane, kwakira abashyitsi h...</td>\n",
              "      <td>Excellent experience, hospitality and a unique...</td>\n",
              "    </tr>\n",
              "    <tr>\n",
              "      <th>1</th>\n",
              "      <td>30-day Free Visa upon arrival for African Unio...</td>\n",
              "      <td>Viza y'iminsi 30 yubusa ugeze muri Afrika yubu...</td>\n",
              "      <td>Free 30-day visa on arrival in the African Uni...</td>\n",
              "    </tr>\n",
              "    <tr>\n",
              "      <th>2</th>\n",
              "      <td>The 2nd easiest place to do business in Africa...</td>\n",
              "      <td>Ahantu 2 byoroshye gukorera ubucuruzi muri Afr...</td>\n",
              "      <td>2 Easy Places to Do Business in Africa (World ...</td>\n",
              "    </tr>\n",
              "    <tr>\n",
              "      <th>3</th>\n",
              "      <td>GDP growth (2021)</td>\n",
              "      <td>Ubwiyongere bwa GDP (2021)</td>\n",
              "      <td>GDP Growth (2021)</td>\n",
              "    </tr>\n",
              "    <tr>\n",
              "      <th>4</th>\n",
              "      <td>Known as the land of a thousand hills, Rwanda’...</td>\n",
              "      <td>Azwi nk'igihugu cy'imisozi igihumbi, ibyiza by...</td>\n",
              "      <td>Known as the land of a thousand mountains, Rwa...</td>\n",
              "    </tr>\n",
              "    <tr>\n",
              "      <th>5</th>\n",
              "      <td>Find information about all government services...</td>\n",
              "      <td>Shakisha amakuru ajyanye na serivisi zose za l...</td>\n",
              "      <td>Find information about all government services...</td>\n",
              "    </tr>\n",
              "    <tr>\n",
              "      <th>6</th>\n",
              "      <td>You can request different Government services ...</td>\n",
              "      <td>Urashobora gusaba serivisi za leta zitandukany...</td>\n",
              "      <td>You can apply for various government services ...</td>\n",
              "    </tr>\n",
              "    <tr>\n",
              "      <th>7</th>\n",
              "      <td>Enjoy Rwanda's business friendly environment. ...</td>\n",
              "      <td>Ishimire ubucuruzi bwu Rwanda.</td>\n",
              "      <td>Enjoy the business of Rwanda.</td>\n",
              "    </tr>\n",
              "    <tr>\n",
              "      <th>8</th>\n",
              "      <td>The filing and payment of income tax in differ...</td>\n",
              "      <td>Gutanga no kwishyura umusoro ku nyungu mubyici...</td>\n",
              "      <td>Filing and payment of income tax in various ca...</td>\n",
              "    </tr>\n",
              "    <tr>\n",
              "      <th>9</th>\n",
              "      <td>Are you a supplier of goods, works, services o...</td>\n",
              "      <td>Waba utanga ibicuruzwa, imirimo, serivisi cyan...</td>\n",
              "      <td>Do you offer products, services, or non-consul...</td>\n",
              "    </tr>\n",
              "  </tbody>\n",
              "</table>\n",
              "</div>\n",
              "      <button class=\"colab-df-convert\" onclick=\"convertToInteractive('df-19ab4601-b4e5-4729-8dd5-e8182008a3d7')\"\n",
              "              title=\"Convert this dataframe to an interactive table.\"\n",
              "              style=\"display:none;\">\n",
              "        \n",
              "  <svg xmlns=\"http://www.w3.org/2000/svg\" height=\"24px\"viewBox=\"0 0 24 24\"\n",
              "       width=\"24px\">\n",
              "    <path d=\"M0 0h24v24H0V0z\" fill=\"none\"/>\n",
              "    <path d=\"M18.56 5.44l.94 2.06.94-2.06 2.06-.94-2.06-.94-.94-2.06-.94 2.06-2.06.94zm-11 1L8.5 8.5l.94-2.06 2.06-.94-2.06-.94L8.5 2.5l-.94 2.06-2.06.94zm10 10l.94 2.06.94-2.06 2.06-.94-2.06-.94-.94-2.06-.94 2.06-2.06.94z\"/><path d=\"M17.41 7.96l-1.37-1.37c-.4-.4-.92-.59-1.43-.59-.52 0-1.04.2-1.43.59L10.3 9.45l-7.72 7.72c-.78.78-.78 2.05 0 2.83L4 21.41c.39.39.9.59 1.41.59.51 0 1.02-.2 1.41-.59l7.78-7.78 2.81-2.81c.8-.78.8-2.07 0-2.86zM5.41 20L4 18.59l7.72-7.72 1.47 1.35L5.41 20z\"/>\n",
              "  </svg>\n",
              "      </button>\n",
              "      \n",
              "  <style>\n",
              "    .colab-df-container {\n",
              "      display:flex;\n",
              "      flex-wrap:wrap;\n",
              "      gap: 12px;\n",
              "    }\n",
              "\n",
              "    .colab-df-convert {\n",
              "      background-color: #E8F0FE;\n",
              "      border: none;\n",
              "      border-radius: 50%;\n",
              "      cursor: pointer;\n",
              "      display: none;\n",
              "      fill: #1967D2;\n",
              "      height: 32px;\n",
              "      padding: 0 0 0 0;\n",
              "      width: 32px;\n",
              "    }\n",
              "\n",
              "    .colab-df-convert:hover {\n",
              "      background-color: #E2EBFA;\n",
              "      box-shadow: 0px 1px 2px rgba(60, 64, 67, 0.3), 0px 1px 3px 1px rgba(60, 64, 67, 0.15);\n",
              "      fill: #174EA6;\n",
              "    }\n",
              "\n",
              "    [theme=dark] .colab-df-convert {\n",
              "      background-color: #3B4455;\n",
              "      fill: #D2E3FC;\n",
              "    }\n",
              "\n",
              "    [theme=dark] .colab-df-convert:hover {\n",
              "      background-color: #434B5C;\n",
              "      box-shadow: 0px 1px 3px 1px rgba(0, 0, 0, 0.15);\n",
              "      filter: drop-shadow(0px 1px 2px rgba(0, 0, 0, 0.3));\n",
              "      fill: #FFFFFF;\n",
              "    }\n",
              "  </style>\n",
              "\n",
              "      <script>\n",
              "        const buttonEl =\n",
              "          document.querySelector('#df-19ab4601-b4e5-4729-8dd5-e8182008a3d7 button.colab-df-convert');\n",
              "        buttonEl.style.display =\n",
              "          google.colab.kernel.accessAllowed ? 'block' : 'none';\n",
              "\n",
              "        async function convertToInteractive(key) {\n",
              "          const element = document.querySelector('#df-19ab4601-b4e5-4729-8dd5-e8182008a3d7');\n",
              "          const dataTable =\n",
              "            await google.colab.kernel.invokeFunction('convertToInteractive',\n",
              "                                                     [key], {});\n",
              "          if (!dataTable) return;\n",
              "\n",
              "          const docLinkHtml = 'Like what you see? Visit the ' +\n",
              "            '<a target=\"_blank\" href=https://colab.research.google.com/notebooks/data_table.ipynb>data table notebook</a>'\n",
              "            + ' to learn more about interactive tables.';\n",
              "          element.innerHTML = '';\n",
              "          dataTable['output_type'] = 'display_data';\n",
              "          await google.colab.output.renderOutput(dataTable, element);\n",
              "          const docLink = document.createElement('div');\n",
              "          docLink.innerHTML = docLinkHtml;\n",
              "          element.appendChild(docLink);\n",
              "        }\n",
              "      </script>\n",
              "    </div>\n",
              "  </div>\n",
              "  "
            ]
          },
          "metadata": {},
          "execution_count": 26
        }
      ]
    },
    {
      "cell_type": "code",
      "source": [
        "df['Condidence level']= None\n",
        "df"
      ],
      "metadata": {
        "id": "7ZJJRzbGgBJa",
        "outputId": "73bed692-bd18-4a3e-aa0e-cb59fed62624",
        "colab": {
          "base_uri": "https://localhost:8080/",
          "height": 363
        }
      },
      "execution_count": null,
      "outputs": [
        {
          "output_type": "execute_result",
          "data": {
            "text/plain": [
              "                                             content  \\\n",
              "0  Experience stunning scenery, distinctive hospi...   \n",
              "1  30-day Free Visa upon arrival for African Unio...   \n",
              "2  The 2nd easiest place to do business in Africa...   \n",
              "3                                  GDP growth (2021)   \n",
              "4  Known as the land of a thousand hills, Rwanda’...   \n",
              "5  Find information about all government services...   \n",
              "6  You can request different Government services ...   \n",
              "7  Enjoy Rwanda's business friendly environment. ...   \n",
              "8  The filing and payment of income tax in differ...   \n",
              "9  Are you a supplier of goods, works, services o...   \n",
              "\n",
              "                                     translated_text  \\\n",
              "0  Inararibonye nziza cyane, kwakira abashyitsi h...   \n",
              "1  Viza y'iminsi 30 yubusa ugeze muri Afrika yubu...   \n",
              "2  Ahantu 2 byoroshye gukorera ubucuruzi muri Afr...   \n",
              "3                         Ubwiyongere bwa GDP (2021)   \n",
              "4  Azwi nk'igihugu cy'imisozi igihumbi, ibyiza by...   \n",
              "5  Shakisha amakuru ajyanye na serivisi zose za l...   \n",
              "6  Urashobora gusaba serivisi za leta zitandukany...   \n",
              "7                    Ishimire ubucuruzi bwu Rwanda.    \n",
              "8  Gutanga no kwishyura umusoro ku nyungu mubyici...   \n",
              "9  Waba utanga ibicuruzwa, imirimo, serivisi cyan...   \n",
              "\n",
              "                                Back_translated_text Condidence level  \n",
              "0  Excellent experience, hospitality and a unique...             None  \n",
              "1  Free 30-day visa on arrival in the African Uni...             None  \n",
              "2  2 Easy Places to Do Business in Africa (World ...             None  \n",
              "3                                  GDP Growth (2021)             None  \n",
              "4  Known as the land of a thousand mountains, Rwa...             None  \n",
              "5  Find information about all government services...             None  \n",
              "6  You can apply for various government services ...             None  \n",
              "7                      Enjoy the business of Rwanda.             None  \n",
              "8  Filing and payment of income tax in various ca...             None  \n",
              "9  Do you offer products, services, or non-consul...             None  "
            ],
            "text/html": [
              "\n",
              "  <div id=\"df-649e49af-3fc1-4763-946a-1d51d478dd26\">\n",
              "    <div class=\"colab-df-container\">\n",
              "      <div>\n",
              "<style scoped>\n",
              "    .dataframe tbody tr th:only-of-type {\n",
              "        vertical-align: middle;\n",
              "    }\n",
              "\n",
              "    .dataframe tbody tr th {\n",
              "        vertical-align: top;\n",
              "    }\n",
              "\n",
              "    .dataframe thead th {\n",
              "        text-align: right;\n",
              "    }\n",
              "</style>\n",
              "<table border=\"1\" class=\"dataframe\">\n",
              "  <thead>\n",
              "    <tr style=\"text-align: right;\">\n",
              "      <th></th>\n",
              "      <th>content</th>\n",
              "      <th>translated_text</th>\n",
              "      <th>Back_translated_text</th>\n",
              "      <th>Condidence level</th>\n",
              "    </tr>\n",
              "  </thead>\n",
              "  <tbody>\n",
              "    <tr>\n",
              "      <th>0</th>\n",
              "      <td>Experience stunning scenery, distinctive hospi...</td>\n",
              "      <td>Inararibonye nziza cyane, kwakira abashyitsi h...</td>\n",
              "      <td>Excellent experience, hospitality and a unique...</td>\n",
              "      <td>None</td>\n",
              "    </tr>\n",
              "    <tr>\n",
              "      <th>1</th>\n",
              "      <td>30-day Free Visa upon arrival for African Unio...</td>\n",
              "      <td>Viza y'iminsi 30 yubusa ugeze muri Afrika yubu...</td>\n",
              "      <td>Free 30-day visa on arrival in the African Uni...</td>\n",
              "      <td>None</td>\n",
              "    </tr>\n",
              "    <tr>\n",
              "      <th>2</th>\n",
              "      <td>The 2nd easiest place to do business in Africa...</td>\n",
              "      <td>Ahantu 2 byoroshye gukorera ubucuruzi muri Afr...</td>\n",
              "      <td>2 Easy Places to Do Business in Africa (World ...</td>\n",
              "      <td>None</td>\n",
              "    </tr>\n",
              "    <tr>\n",
              "      <th>3</th>\n",
              "      <td>GDP growth (2021)</td>\n",
              "      <td>Ubwiyongere bwa GDP (2021)</td>\n",
              "      <td>GDP Growth (2021)</td>\n",
              "      <td>None</td>\n",
              "    </tr>\n",
              "    <tr>\n",
              "      <th>4</th>\n",
              "      <td>Known as the land of a thousand hills, Rwanda’...</td>\n",
              "      <td>Azwi nk'igihugu cy'imisozi igihumbi, ibyiza by...</td>\n",
              "      <td>Known as the land of a thousand mountains, Rwa...</td>\n",
              "      <td>None</td>\n",
              "    </tr>\n",
              "    <tr>\n",
              "      <th>5</th>\n",
              "      <td>Find information about all government services...</td>\n",
              "      <td>Shakisha amakuru ajyanye na serivisi zose za l...</td>\n",
              "      <td>Find information about all government services...</td>\n",
              "      <td>None</td>\n",
              "    </tr>\n",
              "    <tr>\n",
              "      <th>6</th>\n",
              "      <td>You can request different Government services ...</td>\n",
              "      <td>Urashobora gusaba serivisi za leta zitandukany...</td>\n",
              "      <td>You can apply for various government services ...</td>\n",
              "      <td>None</td>\n",
              "    </tr>\n",
              "    <tr>\n",
              "      <th>7</th>\n",
              "      <td>Enjoy Rwanda's business friendly environment. ...</td>\n",
              "      <td>Ishimire ubucuruzi bwu Rwanda.</td>\n",
              "      <td>Enjoy the business of Rwanda.</td>\n",
              "      <td>None</td>\n",
              "    </tr>\n",
              "    <tr>\n",
              "      <th>8</th>\n",
              "      <td>The filing and payment of income tax in differ...</td>\n",
              "      <td>Gutanga no kwishyura umusoro ku nyungu mubyici...</td>\n",
              "      <td>Filing and payment of income tax in various ca...</td>\n",
              "      <td>None</td>\n",
              "    </tr>\n",
              "    <tr>\n",
              "      <th>9</th>\n",
              "      <td>Are you a supplier of goods, works, services o...</td>\n",
              "      <td>Waba utanga ibicuruzwa, imirimo, serivisi cyan...</td>\n",
              "      <td>Do you offer products, services, or non-consul...</td>\n",
              "      <td>None</td>\n",
              "    </tr>\n",
              "  </tbody>\n",
              "</table>\n",
              "</div>\n",
              "      <button class=\"colab-df-convert\" onclick=\"convertToInteractive('df-649e49af-3fc1-4763-946a-1d51d478dd26')\"\n",
              "              title=\"Convert this dataframe to an interactive table.\"\n",
              "              style=\"display:none;\">\n",
              "        \n",
              "  <svg xmlns=\"http://www.w3.org/2000/svg\" height=\"24px\"viewBox=\"0 0 24 24\"\n",
              "       width=\"24px\">\n",
              "    <path d=\"M0 0h24v24H0V0z\" fill=\"none\"/>\n",
              "    <path d=\"M18.56 5.44l.94 2.06.94-2.06 2.06-.94-2.06-.94-.94-2.06-.94 2.06-2.06.94zm-11 1L8.5 8.5l.94-2.06 2.06-.94-2.06-.94L8.5 2.5l-.94 2.06-2.06.94zm10 10l.94 2.06.94-2.06 2.06-.94-2.06-.94-.94-2.06-.94 2.06-2.06.94z\"/><path d=\"M17.41 7.96l-1.37-1.37c-.4-.4-.92-.59-1.43-.59-.52 0-1.04.2-1.43.59L10.3 9.45l-7.72 7.72c-.78.78-.78 2.05 0 2.83L4 21.41c.39.39.9.59 1.41.59.51 0 1.02-.2 1.41-.59l7.78-7.78 2.81-2.81c.8-.78.8-2.07 0-2.86zM5.41 20L4 18.59l7.72-7.72 1.47 1.35L5.41 20z\"/>\n",
              "  </svg>\n",
              "      </button>\n",
              "      \n",
              "  <style>\n",
              "    .colab-df-container {\n",
              "      display:flex;\n",
              "      flex-wrap:wrap;\n",
              "      gap: 12px;\n",
              "    }\n",
              "\n",
              "    .colab-df-convert {\n",
              "      background-color: #E8F0FE;\n",
              "      border: none;\n",
              "      border-radius: 50%;\n",
              "      cursor: pointer;\n",
              "      display: none;\n",
              "      fill: #1967D2;\n",
              "      height: 32px;\n",
              "      padding: 0 0 0 0;\n",
              "      width: 32px;\n",
              "    }\n",
              "\n",
              "    .colab-df-convert:hover {\n",
              "      background-color: #E2EBFA;\n",
              "      box-shadow: 0px 1px 2px rgba(60, 64, 67, 0.3), 0px 1px 3px 1px rgba(60, 64, 67, 0.15);\n",
              "      fill: #174EA6;\n",
              "    }\n",
              "\n",
              "    [theme=dark] .colab-df-convert {\n",
              "      background-color: #3B4455;\n",
              "      fill: #D2E3FC;\n",
              "    }\n",
              "\n",
              "    [theme=dark] .colab-df-convert:hover {\n",
              "      background-color: #434B5C;\n",
              "      box-shadow: 0px 1px 3px 1px rgba(0, 0, 0, 0.15);\n",
              "      filter: drop-shadow(0px 1px 2px rgba(0, 0, 0, 0.3));\n",
              "      fill: #FFFFFF;\n",
              "    }\n",
              "  </style>\n",
              "\n",
              "      <script>\n",
              "        const buttonEl =\n",
              "          document.querySelector('#df-649e49af-3fc1-4763-946a-1d51d478dd26 button.colab-df-convert');\n",
              "        buttonEl.style.display =\n",
              "          google.colab.kernel.accessAllowed ? 'block' : 'none';\n",
              "\n",
              "        async function convertToInteractive(key) {\n",
              "          const element = document.querySelector('#df-649e49af-3fc1-4763-946a-1d51d478dd26');\n",
              "          const dataTable =\n",
              "            await google.colab.kernel.invokeFunction('convertToInteractive',\n",
              "                                                     [key], {});\n",
              "          if (!dataTable) return;\n",
              "\n",
              "          const docLinkHtml = 'Like what you see? Visit the ' +\n",
              "            '<a target=\"_blank\" href=https://colab.research.google.com/notebooks/data_table.ipynb>data table notebook</a>'\n",
              "            + ' to learn more about interactive tables.';\n",
              "          element.innerHTML = '';\n",
              "          dataTable['output_type'] = 'display_data';\n",
              "          await google.colab.output.renderOutput(dataTable, element);\n",
              "          const docLink = document.createElement('div');\n",
              "          docLink.innerHTML = docLinkHtml;\n",
              "          element.appendChild(docLink);\n",
              "        }\n",
              "      </script>\n",
              "    </div>\n",
              "  </div>\n",
              "  "
            ]
          },
          "metadata": {},
          "execution_count": 27
        }
      ]
    },
    {
      "cell_type": "code",
      "source": [
        "import nltk\n",
        "from nltk.corpus import stopwords\n",
        "from nltk.tokenize import word_tokenize\n",
        "from nltk.stem import WordNetLemmatizer\n",
        "from sklearn.feature_extraction.text import CountVectorizer\n",
        "from sklearn.metrics.pairwise import cosine_similarity\n",
        "\n",
        "# Download required NLTK resources\n",
        "nltk.download('stopwords')\n",
        "nltk.download('punkt')\n",
        "nltk.download('wordnet')\n",
        "\n",
        "# Define preprocessing functions\n",
        "stop_words = set(stopwords.words('english'))\n",
        "lemmatizer = WordNetLemmatizer()\n",
        "\n",
        "def preprocess_text(text):\n",
        "    # Tokenize text into words\n",
        "    words = word_tokenize(text)\n",
        "    # Remove stop words, punctuation, and numbers\n",
        "    words = [word.lower() for word in words if word.isalpha() and word.lower() not in stop_words]\n",
        "    # Lemmatize words\n",
        "    words = [lemmatizer.lemmatize(word) for word in words]\n",
        "    # Join words back into a string\n",
        "    text = ' '.join(words)\n",
        "    return text\n",
        "\n",
        "def compare_paragraphs(paragraph1, paragraph2):\n",
        "    \"\"\"\n",
        "    Compare two paragraphs and save the similarity percentage in a dataframe column.\n",
        "    \"\"\"\n",
        "    # Preprocess paragraphs\n",
        "    paragraph1 = preprocess_text(paragraph1)\n",
        "    paragraph2 = preprocess_text(paragraph2)\n",
        "    \n",
        "    # Create a CountVectorizer object to convert the paragraphs into a matrix of word counts\n",
        "    count_vect = CountVectorizer()\n",
        "    matrix = count_vect.fit_transform([paragraph1, paragraph2])\n",
        "    \n",
        "    # Use cosine similarity to compare the paragraphs\n",
        "    similarity = cosine_similarity(matrix)[0][1]\n",
        "    \n",
        "    # Save the similarity percentage in the specified column of the dataframe\n",
        "    # df[save_column] = similarity * 100\n",
        "    \n",
        "    # Return the similarity percentage\n",
        "    return similarity * 100\n",
        "\n",
        "\n",
        "# Iterate over the DataFrame rows and compare the paragraphs in each row\n",
        "for i, row in df.iterrows():\n",
        "    similarity = compare_paragraphs(row['content'], row['Back_translated_text'])\n",
        "    df.at[i, 'Condidence level'] = similarity\n",
        "\n",
        "\n",
        "# Print the updated dataframe\n",
        "df[['content','translated_text','Condidence level']]"
      ],
      "metadata": {
        "id": "SsqPyDV4gBME",
        "outputId": "d2b3f351-341f-4884-87f3-2a368609bdb6",
        "colab": {
          "base_uri": "https://localhost:8080/",
          "height": 450
        }
      },
      "execution_count": null,
      "outputs": [
        {
          "output_type": "stream",
          "name": "stderr",
          "text": [
            "[nltk_data] Downloading package stopwords to /root/nltk_data...\n",
            "[nltk_data]   Unzipping corpora/stopwords.zip.\n",
            "[nltk_data] Downloading package punkt to /root/nltk_data...\n",
            "[nltk_data]   Unzipping tokenizers/punkt.zip.\n",
            "[nltk_data] Downloading package wordnet to /root/nltk_data...\n"
          ]
        },
        {
          "output_type": "execute_result",
          "data": {
            "text/plain": [
              "                                             content  \\\n",
              "0  Experience stunning scenery, distinctive hospi...   \n",
              "1  30-day Free Visa upon arrival for African Unio...   \n",
              "2  The 2nd easiest place to do business in Africa...   \n",
              "3                                  GDP growth (2021)   \n",
              "4  Known as the land of a thousand hills, Rwanda’...   \n",
              "5  Find information about all government services...   \n",
              "6  You can request different Government services ...   \n",
              "7  Enjoy Rwanda's business friendly environment. ...   \n",
              "8  The filing and payment of income tax in differ...   \n",
              "9  Are you a supplier of goods, works, services o...   \n",
              "\n",
              "                                     translated_text Condidence level  \n",
              "0  Inararibonye nziza cyane, kwakira abashyitsi h...        82.158384  \n",
              "1  Viza y'iminsi 30 yubusa ugeze muri Afrika yubu...        77.459667  \n",
              "2  Ahantu 2 byoroshye gukorera ubucuruzi muri Afr...        83.333333  \n",
              "3                         Ubwiyongere bwa GDP (2021)            100.0  \n",
              "4  Azwi nk'igihugu cy'imisozi igihumbi, ibyiza by...        76.470588  \n",
              "5  Shakisha amakuru ajyanye na serivisi zose za l...        90.909091  \n",
              "6  Urashobora gusaba serivisi za leta zitandukany...        76.277007  \n",
              "7                    Ishimire ubucuruzi bwu Rwanda.         66.666667  \n",
              "8  Gutanga no kwishyura umusoro ku nyungu mubyici...             87.5  \n",
              "9  Waba utanga ibicuruzwa, imirimo, serivisi cyan...        47.140452  "
            ],
            "text/html": [
              "\n",
              "  <div id=\"df-086bafba-ee00-4868-84e5-f231d8fff183\">\n",
              "    <div class=\"colab-df-container\">\n",
              "      <div>\n",
              "<style scoped>\n",
              "    .dataframe tbody tr th:only-of-type {\n",
              "        vertical-align: middle;\n",
              "    }\n",
              "\n",
              "    .dataframe tbody tr th {\n",
              "        vertical-align: top;\n",
              "    }\n",
              "\n",
              "    .dataframe thead th {\n",
              "        text-align: right;\n",
              "    }\n",
              "</style>\n",
              "<table border=\"1\" class=\"dataframe\">\n",
              "  <thead>\n",
              "    <tr style=\"text-align: right;\">\n",
              "      <th></th>\n",
              "      <th>content</th>\n",
              "      <th>translated_text</th>\n",
              "      <th>Condidence level</th>\n",
              "    </tr>\n",
              "  </thead>\n",
              "  <tbody>\n",
              "    <tr>\n",
              "      <th>0</th>\n",
              "      <td>Experience stunning scenery, distinctive hospi...</td>\n",
              "      <td>Inararibonye nziza cyane, kwakira abashyitsi h...</td>\n",
              "      <td>82.158384</td>\n",
              "    </tr>\n",
              "    <tr>\n",
              "      <th>1</th>\n",
              "      <td>30-day Free Visa upon arrival for African Unio...</td>\n",
              "      <td>Viza y'iminsi 30 yubusa ugeze muri Afrika yubu...</td>\n",
              "      <td>77.459667</td>\n",
              "    </tr>\n",
              "    <tr>\n",
              "      <th>2</th>\n",
              "      <td>The 2nd easiest place to do business in Africa...</td>\n",
              "      <td>Ahantu 2 byoroshye gukorera ubucuruzi muri Afr...</td>\n",
              "      <td>83.333333</td>\n",
              "    </tr>\n",
              "    <tr>\n",
              "      <th>3</th>\n",
              "      <td>GDP growth (2021)</td>\n",
              "      <td>Ubwiyongere bwa GDP (2021)</td>\n",
              "      <td>100.0</td>\n",
              "    </tr>\n",
              "    <tr>\n",
              "      <th>4</th>\n",
              "      <td>Known as the land of a thousand hills, Rwanda’...</td>\n",
              "      <td>Azwi nk'igihugu cy'imisozi igihumbi, ibyiza by...</td>\n",
              "      <td>76.470588</td>\n",
              "    </tr>\n",
              "    <tr>\n",
              "      <th>5</th>\n",
              "      <td>Find information about all government services...</td>\n",
              "      <td>Shakisha amakuru ajyanye na serivisi zose za l...</td>\n",
              "      <td>90.909091</td>\n",
              "    </tr>\n",
              "    <tr>\n",
              "      <th>6</th>\n",
              "      <td>You can request different Government services ...</td>\n",
              "      <td>Urashobora gusaba serivisi za leta zitandukany...</td>\n",
              "      <td>76.277007</td>\n",
              "    </tr>\n",
              "    <tr>\n",
              "      <th>7</th>\n",
              "      <td>Enjoy Rwanda's business friendly environment. ...</td>\n",
              "      <td>Ishimire ubucuruzi bwu Rwanda.</td>\n",
              "      <td>66.666667</td>\n",
              "    </tr>\n",
              "    <tr>\n",
              "      <th>8</th>\n",
              "      <td>The filing and payment of income tax in differ...</td>\n",
              "      <td>Gutanga no kwishyura umusoro ku nyungu mubyici...</td>\n",
              "      <td>87.5</td>\n",
              "    </tr>\n",
              "    <tr>\n",
              "      <th>9</th>\n",
              "      <td>Are you a supplier of goods, works, services o...</td>\n",
              "      <td>Waba utanga ibicuruzwa, imirimo, serivisi cyan...</td>\n",
              "      <td>47.140452</td>\n",
              "    </tr>\n",
              "  </tbody>\n",
              "</table>\n",
              "</div>\n",
              "      <button class=\"colab-df-convert\" onclick=\"convertToInteractive('df-086bafba-ee00-4868-84e5-f231d8fff183')\"\n",
              "              title=\"Convert this dataframe to an interactive table.\"\n",
              "              style=\"display:none;\">\n",
              "        \n",
              "  <svg xmlns=\"http://www.w3.org/2000/svg\" height=\"24px\"viewBox=\"0 0 24 24\"\n",
              "       width=\"24px\">\n",
              "    <path d=\"M0 0h24v24H0V0z\" fill=\"none\"/>\n",
              "    <path d=\"M18.56 5.44l.94 2.06.94-2.06 2.06-.94-2.06-.94-.94-2.06-.94 2.06-2.06.94zm-11 1L8.5 8.5l.94-2.06 2.06-.94-2.06-.94L8.5 2.5l-.94 2.06-2.06.94zm10 10l.94 2.06.94-2.06 2.06-.94-2.06-.94-.94-2.06-.94 2.06-2.06.94z\"/><path d=\"M17.41 7.96l-1.37-1.37c-.4-.4-.92-.59-1.43-.59-.52 0-1.04.2-1.43.59L10.3 9.45l-7.72 7.72c-.78.78-.78 2.05 0 2.83L4 21.41c.39.39.9.59 1.41.59.51 0 1.02-.2 1.41-.59l7.78-7.78 2.81-2.81c.8-.78.8-2.07 0-2.86zM5.41 20L4 18.59l7.72-7.72 1.47 1.35L5.41 20z\"/>\n",
              "  </svg>\n",
              "      </button>\n",
              "      \n",
              "  <style>\n",
              "    .colab-df-container {\n",
              "      display:flex;\n",
              "      flex-wrap:wrap;\n",
              "      gap: 12px;\n",
              "    }\n",
              "\n",
              "    .colab-df-convert {\n",
              "      background-color: #E8F0FE;\n",
              "      border: none;\n",
              "      border-radius: 50%;\n",
              "      cursor: pointer;\n",
              "      display: none;\n",
              "      fill: #1967D2;\n",
              "      height: 32px;\n",
              "      padding: 0 0 0 0;\n",
              "      width: 32px;\n",
              "    }\n",
              "\n",
              "    .colab-df-convert:hover {\n",
              "      background-color: #E2EBFA;\n",
              "      box-shadow: 0px 1px 2px rgba(60, 64, 67, 0.3), 0px 1px 3px 1px rgba(60, 64, 67, 0.15);\n",
              "      fill: #174EA6;\n",
              "    }\n",
              "\n",
              "    [theme=dark] .colab-df-convert {\n",
              "      background-color: #3B4455;\n",
              "      fill: #D2E3FC;\n",
              "    }\n",
              "\n",
              "    [theme=dark] .colab-df-convert:hover {\n",
              "      background-color: #434B5C;\n",
              "      box-shadow: 0px 1px 3px 1px rgba(0, 0, 0, 0.15);\n",
              "      filter: drop-shadow(0px 1px 2px rgba(0, 0, 0, 0.3));\n",
              "      fill: #FFFFFF;\n",
              "    }\n",
              "  </style>\n",
              "\n",
              "      <script>\n",
              "        const buttonEl =\n",
              "          document.querySelector('#df-086bafba-ee00-4868-84e5-f231d8fff183 button.colab-df-convert');\n",
              "        buttonEl.style.display =\n",
              "          google.colab.kernel.accessAllowed ? 'block' : 'none';\n",
              "\n",
              "        async function convertToInteractive(key) {\n",
              "          const element = document.querySelector('#df-086bafba-ee00-4868-84e5-f231d8fff183');\n",
              "          const dataTable =\n",
              "            await google.colab.kernel.invokeFunction('convertToInteractive',\n",
              "                                                     [key], {});\n",
              "          if (!dataTable) return;\n",
              "\n",
              "          const docLinkHtml = 'Like what you see? Visit the ' +\n",
              "            '<a target=\"_blank\" href=https://colab.research.google.com/notebooks/data_table.ipynb>data table notebook</a>'\n",
              "            + ' to learn more about interactive tables.';\n",
              "          element.innerHTML = '';\n",
              "          dataTable['output_type'] = 'display_data';\n",
              "          await google.colab.output.renderOutput(dataTable, element);\n",
              "          const docLink = document.createElement('div');\n",
              "          docLink.innerHTML = docLinkHtml;\n",
              "          element.appendChild(docLink);\n",
              "        }\n",
              "      </script>\n",
              "    </div>\n",
              "  </div>\n",
              "  "
            ]
          },
          "metadata": {},
          "execution_count": 28
        }
      ]
    }
  ]
}